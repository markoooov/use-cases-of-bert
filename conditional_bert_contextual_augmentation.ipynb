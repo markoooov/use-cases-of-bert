{
  "nbformat": 4,
  "nbformat_minor": 0,
  "metadata": {
    "colab": {
      "name": "lexical_substitution_with_bert.ipynb",
      "version": "0.3.2",
      "provenance": [],
      "collapsed_sections": [],
      "include_colab_link": true
    },
    "kernelspec": {
      "name": "python3",
      "display_name": "Python 3"
    },
    "accelerator": "GPU"
  },
  "cells": [
    {
      "cell_type": "markdown",
      "metadata": {
        "id": "view-in-github",
        "colab_type": "text"
      },
      "source": [
        "<a href=\"https://colab.research.google.com/github/marucha80t/use-cases_of_bert/blob/master/lexical_substitution_with_bert.ipynb\" target=\"_parent\"><img src=\"https://colab.research.google.com/assets/colab-badge.svg\" alt=\"Open In Colab\"/></a>"
      ]
    },
    {
      "cell_type": "markdown",
      "metadata": {
        "id": "i7LF71CEeB0M",
        "colab_type": "text"
      },
      "source": [
        "# Lexical substitution with BERT\n",
        "## Overview\n",
        "This notebook performs lexical substitution using  BERT published on Hugging face.\n",
        "First, it shows how to generate substitution candidates by using pre-training BERT following the *A Simple BERT-Based Approach for Lexical Simplification* [1]. Next, it shows how to fine-tune pre-trained BERT and constrain substitution candidates following the *Conditional BERT Contextual Augmentation* [2].\n",
        "\n"
      ]
    },
    {
      "cell_type": "markdown",
      "metadata": {
        "id": "DpxaNWMmdkO7",
        "colab_type": "text"
      },
      "source": [
        "## Settings"
      ]
    },
    {
      "cell_type": "code",
      "metadata": {
        "id": "ZMX_w_VydE7j",
        "colab_type": "code",
        "cellView": "form",
        "outputId": "0f8a008d-534b-48c9-88a9-9b3752f802a5",
        "colab": {
          "base_uri": "https://localhost:8080/",
          "height": 105
        }
      },
      "source": [
        "#@title Setup environment\n",
        "!pip install --quiet pytorch-transformers\n",
        "!pip install --quiet pytorch-nlp\n",
        "!pip install --quiet tqdm"
      ],
      "execution_count": 0,
      "outputs": [
        {
          "output_type": "stream",
          "text": [
            "\u001b[K     |████████████████████████████████| 143kB 31.3MB/s \n",
            "\u001b[K     |████████████████████████████████| 655kB 53.3MB/s \n",
            "\u001b[K     |████████████████████████████████| 1.0MB 48.9MB/s \n",
            "\u001b[?25h  Building wheel for regex (setup.py) ... \u001b[?25l\u001b[?25hdone\n",
            "\u001b[K     |████████████████████████████████| 92kB 22.3MB/s \n",
            "\u001b[?25h"
          ],
          "name": "stdout"
        }
      ]
    },
    {
      "cell_type": "code",
      "metadata": {
        "id": "ckESRGmKdMrh",
        "colab_type": "code",
        "cellView": "form",
        "colab": {}
      },
      "source": [
        "#@title Setup common imports\n",
        "import random\n",
        "import math\n",
        "from collections import OrderedDict\n",
        "from tqdm import tqdm\n",
        "\n",
        "import torch\n",
        "from torch.nn import CrossEntropyLoss\n",
        "import torch.nn.functional as F\n",
        "\n",
        "from torchnlp.datasets import smt_dataset\n",
        "\n",
        "from pytorch_transformers import (\n",
        "    BertConfig,\n",
        "    BertTokenizer,\n",
        "    BertForMaskedLM,\n",
        "    BertForTokenClassification,\n",
        "    AdamW,\n",
        "    WarmupLinearSchedule,\n",
        ")\n",
        "\n",
        "import matplotlib.pyplot as plt\n",
        "% matplotlib inline"
      ],
      "execution_count": 0,
      "outputs": []
    },
    {
      "cell_type": "markdown",
      "metadata": {
        "id": "fWT62eJMJYHF",
        "colab_type": "text"
      },
      "source": [
        "## Examples\n"
      ]
    },
    {
      "cell_type": "markdown",
      "metadata": {
        "id": "QyTRtkSHUqlP",
        "colab_type": "text"
      },
      "source": [
        "### A Simple BERT-Based Approach for Lexical Simplification"
      ]
    },
    {
      "cell_type": "code",
      "metadata": {
        "id": "6asdN5g-M7mm",
        "colab_type": "code",
        "cellView": "both",
        "colab": {}
      },
      "source": [
        "# Input text\n",
        "# masked_text = ['[CLS]', 'the', 'cat', 'perched', 'on', 'the', 'mat', '[SEP]', 'the', 'cat', '[MASK]', 'on', 'the', 'mat', '[SEP]']\n",
        "text = \"[CLS] the cat perched on the mat [SEP] the cat perched on the mat [SEP]\"\n",
        "masked_idx = 10"
      ],
      "execution_count": 0,
      "outputs": []
    },
    {
      "cell_type": "code",
      "metadata": {
        "id": "QTOmNopm221L",
        "colab_type": "code",
        "colab": {}
      },
      "source": [
        "# Build model\n",
        "tokenizer = BertTokenizer.from_pretrained('bert-base-uncased')\n",
        "model = BertForMaskedLM.from_pretrained('bert-base-uncased')"
      ],
      "execution_count": 0,
      "outputs": []
    },
    {
      "cell_type": "code",
      "metadata": {
        "id": "ClRBWm7hI8T-",
        "colab_type": "code",
        "cellView": "both",
        "colab": {}
      },
      "source": [
        "# Tokenize a text\n",
        "tokenized_text = tokenizer.tokenize(text)\n",
        "\n",
        "# Mask a complex token which should be substituted\n",
        "masked_idx = 10\n",
        "tokenized_text[masked_idx] = '[MASK]'\n",
        "\n",
        "# Convert inputs to PyTorch tensors\n",
        "tokens_ids = tokenizer.convert_tokens_to_ids(tokenized_text)\n",
        "segments_ids = [0, 0, 0, 0, 0, 0, 0, 0, 1, 1, 1, 1, 1, 1, 1]\n",
        "tokens_tensor = torch.tensor([tokens_ids])\n",
        "segments_tensors = torch.tensor([segments_ids])"
      ],
      "execution_count": 0,
      "outputs": []
    },
    {
      "cell_type": "code",
      "metadata": {
        "id": "gNO4TEGagNDn",
        "colab_type": "code",
        "cellView": "both",
        "colab": {}
      },
      "source": [
        "# Predict a masked token\n",
        "model.eval()\n",
        "if torch.cuda.is_available():\n",
        "    tokens_tensor = tokens_tensor.to('cuda')\n",
        "    segments_tensors = segments_tensors.to('cuda')\n",
        "    model.to('cuda')\n",
        "with torch.no_grad():\n",
        "    outputs = model(tokens_tensor, token_type_ids=segments_tensors)\n",
        "    predictions = outputs[0]"
      ],
      "execution_count": 0,
      "outputs": []
    },
    {
      "cell_type": "code",
      "metadata": {
        "id": "QxjxFV8f_I2q",
        "colab_type": "code",
        "cellView": "form",
        "outputId": "2bedfbe9-bd91-4035-f42b-eb3c45ce9a47",
        "colab": {
          "base_uri": "https://localhost:8080/",
          "height": 52
        }
      },
      "source": [
        "#@title Output top10 candidates\n",
        "topk_score, topk_index = torch.topk(predictions[0, masked_idx], 10)\n",
        "topk_tokens = tokenizer.convert_ids_to_tokens(topk_index.tolist())\n",
        "print(f'Input: {tokenized_text}')\n",
        "print(f'Top10: {topk_tokens}')"
      ],
      "execution_count": 0,
      "outputs": [
        {
          "output_type": "stream",
          "text": [
            "Input: ['[CLS]', 'the', 'cat', 'perched', 'on', 'the', 'mat', '[SEP]', 'the', 'cat', '[MASK]', 'on', 'the', 'mat', '[SEP]']\n",
            "Top10: ['perched', 'sat', 'landed', 'was', 'rested', 'stood', 'settled', 'hovered', 'sitting', 'crouched']\n"
          ],
          "name": "stdout"
        }
      ]
    },
    {
      "cell_type": "code",
      "metadata": {
        "id": "xq_fvV-qFix5",
        "colab_type": "code",
        "cellView": "form",
        "outputId": "f3a0a90e-1b34-41f1-d4b8-032e36db859c",
        "colab": {
          "base_uri": "https://localhost:8080/",
          "height": 306
        }
      },
      "source": [
        "#@title Visualize output probabilities\n",
        "plt.bar(topk_tokens, torch.softmax(topk_score, 0).tolist())\n",
        "plt.xticks(rotation=70)\n",
        "plt.ylabel('Probability')\n",
        "plt.show()"
      ],
      "execution_count": 0,
      "outputs": [
        {
          "output_type": "display_data",
          "data": {
            "image/png": "[encoded data removed]",
            "text/plain": [
              "<Figure size 432x288 with 1 Axes>"
            ]
          },
          "metadata": {
            "tags": []
          }
        }
      ]
    },
    {
      "cell_type": "markdown",
      "metadata": {
        "id": "C3Ju8s5k4dCs",
        "colab_type": "text"
      },
      "source": [
        "### Conditional BERT Contextual Augmentation\n"
      ]
    },
    {
      "cell_type": "code",
      "metadata": {
        "id": "84InK9iVi4K4",
        "colab_type": "code",
        "cellView": "both",
        "colab": {}
      },
      "source": [
        "#@title setup common functions\n",
        "class BatchIterator(object):\n",
        "    def __init__(self, tokenizer, data, batchsize, device, shuffle=True, repeat=False):\n",
        "        self.tokenizer = tokenizer\n",
        "        self.pad_idx = self.tokenizer.convert_tokens_to_ids('[PAD]')\n",
        "        self._numericalize(data)\n",
        "        self.batchsize = batchsize\n",
        "        self.device = device\n",
        "        self.shuffle = shuffle\n",
        "        self.repeat = repeat\n",
        "                    \n",
        "    def __len__(self):\n",
        "        return math.ceil(len(self.data)/self.batchsize)\n",
        "\n",
        "    def __iter__(self):\n",
        "        while True:\n",
        "            self._init_batches()\n",
        "            for batch in self.batches:\n",
        "                yield batch.to(self.device)\n",
        "            if not self.repeat:\n",
        "                return\n",
        "            \n",
        "    def _numericalize(self, data):\n",
        "        self.data = [self.tokenizer.encode(s) for s in data]\n",
        "\n",
        "    def _init_batches(self):\n",
        "        data = random.sample(self.data, len(self.data)) if self.shuffle else self.data\n",
        "        self.batches = [self._padding(data[i:i+self.batchsize]) for i in range(0, len(self.data), self.batchsize)]\n",
        "    \n",
        "    def _padding(self, batch):\n",
        "        maxlen = max([len(b) for b in batch])\n",
        "        return torch.tensor([b + [self.pad_idx for _ in range(maxlen-len(b))] for b in batch])    \n",
        "    \n",
        "    \n",
        "class Perturbator(object):\n",
        "    def __init__(self, mask_idx, pad_idx, vocab_range, sampling_rate=0.15, \\\n",
        "                 masking_ratio=0.8, replacing_ratio=0.1, unchanging_ratio=0.1):\n",
        "        self.mask_idx = mask_idx\n",
        "        self.pad_idx = pad_idx\n",
        "        self.vocab_range = vocab_range\n",
        "        self.sampling_rate = sampling_rate\n",
        "        self.masking_ratio = masking_ratio\n",
        "        self.replacing_ratio = replacing_ratio\n",
        "        self.unchanging_ratio = unchanging_ratio\n",
        "        assert (self.masking_ratio + self.replacing_ratio + self.unchanging_ratio) == 1.0, \\\n",
        "                '`masking_ratio + replacing_ratio + unchanging_ratio` must be 1.0'\n",
        "\n",
        "    def __call__(self, batch):\n",
        "        device = batch.device\n",
        "        bsz, slen = batch.size()\n",
        "        batch = batch.to(torch.device('cpu'))\n",
        "        sampler = (torch.rand((bsz, slen)).le(self.sampling_rate)) & batch.ne(self.pad_idx) # [PAD] tokens are not sampled\n",
        "        sampler[:, 0] = 0 # [CLS] tokens are not sampled\n",
        "        \n",
        "        rnd = torch.rand((bsz, slen))\n",
        "        batch = torch.where(\n",
        "            (self.masking_ratio >= rnd) & sampler,\n",
        "            torch.ones_like(batch) * self.mask_idx,\n",
        "            batch\n",
        "        )\n",
        "        \n",
        "        th = self.replacing_ratio + self.masking_ratio\n",
        "        batch = torch.where(\n",
        "            ((th >= rnd) & (rnd > self.masking_ratio) & sampler), \n",
        "            torch.randint_like(batch, self.vocab_range[0], self.vocab_range[1]),\n",
        "            batch,\n",
        "        )\n",
        "        return batch.to(device)"
      ],
      "execution_count": 0,
      "outputs": []
    },
    {
      "cell_type": "code",
      "metadata": {
        "id": "VTV29b1g4lpf",
        "colab_type": "code",
        "cellView": "both",
        "outputId": "b8cdfc5c-7935-4c1f-e9ba-bc1bad3f4b90",
        "colab": {
          "base_uri": "https://localhost:8080/",
          "height": 158
        }
      },
      "source": [
        "#@title Load training data and preprocessing\n",
        "\n",
        "train_smt = smt_dataset(train=True)\n",
        "\n",
        "print('----- DETAILS OF TRAINING DATA -----')\n",
        "print('* Data Summary')\n",
        "for i in range(3):\n",
        "    print(train_smt[i]['label'] + '\\t' + train_smt[i]['text'][:100] + '...')\n",
        "print('...')\n",
        "print(f'* Train data size: {len(train_smt)}')\n",
        "\n",
        "unique_labels = set([data['label'] for data in train_smt])\n",
        "print(f'* class: {unique_labels}')\n",
        "\n",
        "train_data = ['[' + data['label'].upper() + '] ' + data['text'] for data in train_smt]\n"
      ],
      "execution_count": 0,
      "outputs": [
        {
          "output_type": "stream",
          "text": [
            "----- DETAILS OF TRAINING DATA -----\n",
            "* Data Summary\n",
            "positive\tThe Rock is destined to be the 21st Century 's new `` Conan '' and that he 's going to make a splash...\n",
            "positive\tThe gorgeously elaborate continuation of `` The Lord of the Rings '' trilogy is so huge that a colum...\n",
            "positive\tSinger\\/composer Bryan Adams contributes a slew of songs -- a few potential hits , a few more simply...\n",
            "...\n",
            "* Train data size: 8544\n",
            "* class: {'positive', 'neutral', 'negative'}\n"
          ],
          "name": "stdout"
        }
      ]
    },
    {
      "cell_type": "code",
      "metadata": {
        "id": "SKdU3O3l5faT",
        "colab_type": "code",
        "cellView": "form",
        "colab": {}
      },
      "source": [
        "#@title Setup tokenizer and iterator\n",
        "\n",
        "# Set tokenizer    \n",
        "tokenizer = BertTokenizer.from_pretrained('bert-base-uncased')\n",
        "added_special_tokens = [ '[' + label.upper() + ']' for label in iter(unique_labels)]\n",
        "tokenizer.add_tokens(added_special_tokens)\n",
        "\n",
        "batch_size = 16 #@param {type:\"integer\"}\n",
        "assert batch_size > 0, 'Please set `batch_size` value more than zero'\n",
        "device = torch.device('cuda' if torch.cuda.is_available() else 'cpu')\n",
        "train_iter = BatchIterator(tokenizer, train_data, batch_size, device)\n",
        "#train_iter = BatchIterator(tokenizer, small_train, batch_size, device)\n"
      ],
      "execution_count": 0,
      "outputs": []
    },
    {
      "cell_type": "code",
      "metadata": {
        "id": "JahA0MmVibbg",
        "colab_type": "code",
        "cellView": "form",
        "outputId": "1e544d51-ebc1-4612-8017-89b973fe59b2",
        "colab": {
          "base_uri": "https://localhost:8080/",
          "height": 34
        }
      },
      "source": [
        "#@title Build a model\n",
        "config = BertConfig.from_pretrained('bert-base-uncased')\n",
        "config.num_labels = len(tokenizer)\n",
        "model = BertForTokenClassification(config)\n",
        "model.resize_token_embeddings(len(tokenizer))\n",
        "model.to(device)\n",
        "\n",
        "# freeze bert\n",
        "for param in model.bert.parameters():\n",
        "    param.requires_grad = False\n",
        "\n",
        "print('Built a model!')"
      ],
      "execution_count": 0,
      "outputs": [
        {
          "output_type": "stream",
          "text": [
            "Built a model!\n"
          ],
          "name": "stdout"
        }
      ]
    },
    {
      "cell_type": "code",
      "metadata": {
        "id": "_HoYYzjNJVfK",
        "colab_type": "code",
        "cellView": "form",
        "outputId": "f0ba3138-1e82-4edc-c623-9489c650c33a",
        "colab": {
          "base_uri": "https://localhost:8080/",
          "height": 193
        }
      },
      "source": [
        "#@title Fine-tuning\n",
        "n_epochs = 100 #@param {type:\"integer\"}\n",
        "assert n_epochs > 0, 'Please set `n_epochs` value more than zero'\n",
        "\n",
        "learning_rate = 0.25 #@param\n",
        "num_total_steps = n_epochs * len(train_iter)\n",
        "num_warmup_steps = len(train_iter)\n",
        "\n",
        "# optimizer = AdamW(model.parameters(), lr=learning_rate, correct_bias=False)\n",
        "optimizer = torch.optim.SGD(model.parameters(), lr=learning_rate)\n",
        "scheduler = WarmupLinearSchedule(optimizer, warmup_steps=num_warmup_steps, t_total=num_total_steps)\n",
        "\n",
        "mask_idx = tokenizer.convert_tokens_to_ids(tokenizer.mask_token)\n",
        "pad_idx = tokenizer.convert_tokens_to_ids(tokenizer.pad_token)\n",
        "vocab_range = (max(tokenizer.all_special_ids), min(tokenizer.convert_tokens_to_ids(added_special_tokens)))\n",
        "\n",
        "sampling_rate = 0.2 #@param {type:\"slider\", min:0.1, max:1.0, step:0.05}\n",
        "perturbator = Perturbator(mask_idx, pad_idx, vocab_range, sampling_rate)\n",
        "\n",
        "loss_fn = CrossEntropyLoss(ignore_index=pad_idx)\n",
        "\n",
        "for epoch in range(1, n_epochs+1):  \n",
        "    with tqdm(train_iter, dynamic_ncols=True) as pbar:\n",
        "        train_loss = 0.0\n",
        "        for batch in pbar: \n",
        "            bsz, slen = batch.size()\n",
        "            srcs = perturbator(batch)\n",
        "\n",
        "            outputs = model(srcs)[0].view(bsz*slen, -1)\n",
        "            loss = loss_fn(outputs, batch.view(-1))\n",
        "            pbar.set_description(f'epoch {str(epoch).zfill(3)}')\n",
        "            progress_state = OrderedDict(\n",
        "                loss=loss.item(),\n",
        "                bsz=bsz,\n",
        "            )\n",
        "            pbar.set_postfix(progress_state)\n",
        "        loss.backward()\n",
        "        scheduler.step()\n",
        "        optimizer.step()\n"
      ],
      "execution_count": 0,
      "outputs": [
        {
          "output_type": "stream",
          "text": [
            "epoch 001: 100%|██████████| 534/534 [00:36<00:00, 15.61it/s, loss=10.6, bsz=16]\n",
            "epoch 002: 100%|██████████| 534/534 [00:38<00:00, 13.81it/s, loss=10.5, bsz=16]\n",
            "epoch 003: 100%|██████████| 534/534 [00:37<00:00, 14.43it/s, loss=10.5, bsz=16]\n",
            "epoch 004: 100%|██████████| 534/534 [00:37<00:00, 14.18it/s, loss=10.5, bsz=16]\n",
            "epoch 005: 100%|██████████| 534/534 [00:37<00:00, 14.30it/s, loss=10.5, bsz=16]\n",
            "epoch 006: 100%|██████████| 534/534 [00:37<00:00, 14.39it/s, loss=10.4, bsz=16]\n",
            "epoch 007: 100%|██████████| 534/534 [00:37<00:00, 14.78it/s, loss=10.4, bsz=16]\n",
            "epoch 008: 100%|██████████| 534/534 [00:37<00:00, 13.39it/s, loss=10.2, bsz=16]\n",
            "epoch 009: 100%|██████████| 534/534 [00:37<00:00, 14.93it/s, loss=10.1, bsz=16]\n",
            "epoch 010:  99%|█████████▉| 529/534 [00:37<00:00, 14.87it/s, loss=9.98, bsz=16]"
          ],
          "name": "stderr"
        }
      ]
    },
    {
      "cell_type": "code",
      "metadata": {
        "id": "Oj3OF1hg_Ouw",
        "colab_type": "code",
        "cellView": "form",
        "outputId": "df176bcb-0a7b-4f6e-844e-9bc968ae91ba",
        "colab": {
          "base_uri": "https://localhost:8080/",
          "height": 34
        }
      },
      "source": [
        "#@title Select condition\n",
        "example = \"The actors are fantastic .\"\n",
        "\n",
        "sentiment_label = '[NEGATIVE]' #@param [\"[NEUTRAL]\", \"[NEGATIVE]\", \"[POSITIVE]\"]\n",
        "conditional_example = sentiment_label + example\n",
        "tokenized_example = tokenizer.tokenize(conditional_example)\n",
        "print(tokenized_example)\n"
      ],
      "execution_count": 0,
      "outputs": [
        {
          "output_type": "stream",
          "text": [
            "['[NEGATIVE]', 'the', 'actors', 'are', 'fantastic', '.']\n"
          ],
          "name": "stdout"
        }
      ]
    },
    {
      "cell_type": "code",
      "metadata": {
        "id": "GxcUMyPf_yo3",
        "colab_type": "code",
        "outputId": "3610d956-0ad5-423e-bb77-20c2d2425bfb",
        "cellView": "form",
        "colab": {
          "base_uri": "https://localhost:8080/",
          "height": 52
        }
      },
      "source": [
        "#@title Output top10 candidates\n",
        "masked_position = 4 #@param {type:\"integer\"}\n",
        "tokenized_example[masked_position] = '[MASK]'\n",
        "print(f'Input: {tokenized_example}')\n",
        "\n",
        "input_tensor = torch.tensor([tokenizer.convert_tokens_to_ids(tokenized_example)]).to(device)\n",
        "outputs = model(input_tensor)[0]\n",
        "\n",
        "topk_score, topk_index = torch.topk(outputs[0, masked_position], 10)\n",
        "topk_tokens = tokenizer.convert_ids_to_tokens(topk_index.tolist())\n",
        "print(topk_tokens)"
      ],
      "execution_count": 0,
      "outputs": [
        {
          "output_type": "stream",
          "text": [
            "Input: ['[NEGATIVE]', 'the', 'actors', 'are', '[MASK]', '.']\n",
            "[',', 'the', \"'\", 'there', 'and', '.', 'into', 'no', 'l', 'comedy']\n"
          ],
          "name": "stdout"
        }
      ]
    },
    {
      "cell_type": "code",
      "metadata": {
        "id": "TNWIfSGPFFG8",
        "colab_type": "code",
        "outputId": "b915440e-8254-4361-8cf5-284ce5ad46d7",
        "cellView": "form",
        "colab": {
          "base_uri": "https://localhost:8080/",
          "height": 299
        }
      },
      "source": [
        "#@title Visualize output probabilities\n",
        "plt.bar(topk_tokens, torch.softmax(topk_score, 0).tolist())\n",
        "plt.xticks(rotation=70)\n",
        "plt.ylabel('Probability')\n",
        "plt.show()"
      ],
      "execution_count": 0,
      "outputs": [
        {
          "output_type": "display_data",
          "data": {
            "image/png": "[encoded data removed]",
            "text/plain": [
              "<Figure size 432x288 with 1 Axes>"
            ]
          },
          "metadata": {
            "tags": []
          }
        }
      ]
    }
  ]
}