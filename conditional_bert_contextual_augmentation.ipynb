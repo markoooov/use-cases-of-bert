{
  "nbformat": 4,
  "nbformat_minor": 0,
  "metadata": {
    "colab": {
      "name": "lexical_substitution_with_bert.ipynb",
      "provenance": [],
      "collapsed_sections": [],
      "include_colab_link": true
    },
    "kernelspec": {
      "name": "python3",
      "display_name": "Python 3"
    },
    "accelerator": "GPU"
  },
  "cells": [
    {
      "cell_type": "markdown",
      "metadata": {
        "id": "view-in-github",
        "colab_type": "text"
      },
      "source": [
        "<a href=\"https://colab.research.google.com/github/tkmaroon/use-cases-of-bert/blob/master/conditional_bert_contextual_augmentation.ipynb\" target=\"_parent\"><img src=\"https://colab.research.google.com/assets/colab-badge.svg\" alt=\"Open In Colab\"/></a>"
      ]
    },
    {
      "cell_type": "markdown",
      "metadata": {
        "id": "i7LF71CEeB0M",
        "colab_type": "text"
      },
      "source": [
        "# Conditional BERT Contextual Augmentation\n",
        "## Overview\n",
        "This notebook performs lexical substitution using  BERT of Hugging face.\n",
        "It shows how to constrain substitution candidates following the *Conditional BERT Contextual Augmentation*.\n",
        "\n"
      ]
    },
    {
      "cell_type": "markdown",
      "metadata": {
        "id": "DpxaNWMmdkO7",
        "colab_type": "text"
      },
      "source": [
        "## Settings"
      ]
    },
    {
      "cell_type": "code",
      "metadata": {
        "id": "ZMX_w_VydE7j",
        "colab_type": "code",
        "cellView": "form",
        "outputId": "bafe7f61-7338-43f4-bf81-f0fbe43dc6e6",
        "colab": {
          "base_uri": "https://localhost:8080/",
          "height": 102
        }
      },
      "source": [
        "#@title Setup environment\n",
        "!pip install --quiet pytorch-transformers\n",
        "!pip install --quiet pytorch-nlp\n",
        "!pip install --quiet tqdm"
      ],
      "execution_count": 2,
      "outputs": [
        {
          "output_type": "stream",
          "text": [
            "\u001b[?25l\r\u001b[K     |█▉                              | 10kB 31.2MB/s eta 0:00:01\r\u001b[K     |███▊                            | 20kB 6.7MB/s eta 0:00:01\r\u001b[K     |█████▋                          | 30kB 9.3MB/s eta 0:00:01\r\u001b[K     |███████▍                        | 40kB 6.4MB/s eta 0:00:01\r\u001b[K     |█████████▎                      | 51kB 7.8MB/s eta 0:00:01\r\u001b[K     |███████████▏                    | 61kB 9.3MB/s eta 0:00:01\r\u001b[K     |█████████████                   | 71kB 10.6MB/s eta 0:00:01\r\u001b[K     |██████████████▉                 | 81kB 11.8MB/s eta 0:00:01\r\u001b[K     |████████████████▊               | 92kB 13.1MB/s eta 0:00:01\r\u001b[K     |██████████████████▋             | 102kB 10.3MB/s eta 0:00:01\r\u001b[K     |████████████████████▍           | 112kB 10.3MB/s eta 0:00:01\r\u001b[K     |██████████████████████▎         | 122kB 10.3MB/s eta 0:00:01\r\u001b[K     |████████████████████████▏       | 133kB 10.3MB/s eta 0:00:01\r\u001b[K     |██████████████████████████      | 143kB 10.3MB/s eta 0:00:01\r\u001b[K     |███████████████████████████▉    | 153kB 10.3MB/s eta 0:00:01\r\u001b[K     |█████████████████████████████▊  | 163kB 10.3MB/s eta 0:00:01\r\u001b[K     |███████████████████████████████▋| 174kB 10.3MB/s eta 0:00:01\r\u001b[K     |████████████████████████████████| 184kB 10.3MB/s \n",
            "\u001b[K     |████████████████████████████████| 1.0MB 54.1MB/s \n",
            "\u001b[K     |████████████████████████████████| 870kB 77.6MB/s \n",
            "\u001b[?25h  Building wheel for sacremoses (setup.py) ... \u001b[?25l\u001b[?25hdone\n",
            "\u001b[K     |████████████████████████████████| 92kB 6.8MB/s \n",
            "\u001b[?25h"
          ],
          "name": "stdout"
        }
      ]
    },
    {
      "cell_type": "code",
      "metadata": {
        "id": "ckESRGmKdMrh",
        "colab_type": "code",
        "cellView": "form",
        "colab": {}
      },
      "source": [
        "#@title Setup common imports\n",
        "import random\n",
        "import math\n",
        "from collections import OrderedDict\n",
        "from tqdm import tqdm\n",
        "\n",
        "import torch\n",
        "from torch.nn import CrossEntropyLoss\n",
        "import torch.nn.functional as F\n",
        "\n",
        "from torchnlp.datasets import smt_dataset\n",
        "\n",
        "from pytorch_transformers import (\n",
        "    BertConfig,\n",
        "    BertTokenizer,\n",
        "    BertForMaskedLM,\n",
        "    BertForTokenClassification,\n",
        "    AdamW,\n",
        "    WarmupLinearSchedule,\n",
        ")\n",
        "\n",
        "import matplotlib.pyplot as plt\n",
        "% matplotlib inline"
      ],
      "execution_count": 0,
      "outputs": []
    },
    {
      "cell_type": "markdown",
      "metadata": {
        "id": "fWT62eJMJYHF",
        "colab_type": "text"
      },
      "source": [
        "## Examples\n"
      ]
    },
    {
      "cell_type": "markdown",
      "metadata": {
        "id": "C3Ju8s5k4dCs",
        "colab_type": "text"
      },
      "source": [
        "### Conditional BERT Contextual Augmentation\n"
      ]
    },
    {
      "cell_type": "code",
      "metadata": {
        "id": "84InK9iVi4K4",
        "colab_type": "code",
        "cellView": "both",
        "colab": {}
      },
      "source": [
        "#@title setup common functions\n",
        "class BatchIterator(object):\n",
        "    def __init__(self, tokenizer, data, batchsize, device, shuffle=True, repeat=False):\n",
        "        self.tokenizer = tokenizer\n",
        "        self.pad_idx = self.tokenizer.convert_tokens_to_ids('[PAD]')\n",
        "        self._numericalize(data)\n",
        "        self.batchsize = batchsize\n",
        "        self.device = device\n",
        "        self.shuffle = shuffle\n",
        "        self.repeat = repeat\n",
        "                    \n",
        "    def __len__(self):\n",
        "        return math.ceil(len(self.data)/self.batchsize)\n",
        "\n",
        "    def __iter__(self):\n",
        "        while True:\n",
        "            self._init_batches()\n",
        "            for batch in self.batches:\n",
        "                yield batch.to(self.device)\n",
        "            if not self.repeat:\n",
        "                return\n",
        "            \n",
        "    def _numericalize(self, data):\n",
        "        self.data = [self.tokenizer.encode(s) for s in data]\n",
        "\n",
        "    def _init_batches(self):\n",
        "        data = random.sample(self.data, len(self.data)) if self.shuffle else self.data\n",
        "        self.batches = [self._padding(data[i:i+self.batchsize]) for i in range(0, len(self.data), self.batchsize)]\n",
        "    \n",
        "    def _padding(self, batch):\n",
        "        maxlen = max([len(b) for b in batch])\n",
        "        return torch.tensor([b + [self.pad_idx for _ in range(maxlen-len(b))] for b in batch])    \n",
        "    \n",
        "    \n",
        "class Perturbator(object):\n",
        "    def __init__(self, tokenizer, vocab_range, sampling_rate=0.15, \\\n",
        "                 masking_ratio=0.8, replacing_ratio=0.1, unchanging_ratio=0.1):\n",
        "        self.mask_idx = tokenizer.mask_token_id\n",
        "        self.pad_idx = tokenizer.pad_token_id\n",
        "        self.vocab_range = vocab_range\n",
        "        self.sampling_rate = sampling_rate\n",
        "        self.masking_ratio = masking_ratio\n",
        "        self.replacing_ratio = replacing_ratio\n",
        "        self.unchanging_ratio = unchanging_ratio\n",
        "        assert (self.masking_ratio + self.replacing_ratio + self.unchanging_ratio) == 1.0, \\\n",
        "                '`masking_ratio + replacing_ratio + unchanging_ratio` must be 1.0'\n",
        "\n",
        "    def __call__(self, batch):\n",
        "        device = batch.device\n",
        "        bsz, slen = batch.size()\n",
        "        batch = batch.to(torch.device('cpu'))\n",
        "        sampler = (torch.rand((bsz, slen)).le(self.sampling_rate)) & batch.ne(self.pad_idx) # [PAD] tokens are not sampled\n",
        "        sampler[:, 0] = 0 # [CLS] tokens are not sampled\n",
        "        \n",
        "        masked_lm_labels = torch.where(\n",
        "            sampler,\n",
        "            batch,\n",
        "            torch.ones_like(batch) * -100\n",
        "        )\n",
        "\n",
        "        rnd = torch.rand((bsz, slen))\n",
        "        batch = torch.where(\n",
        "            (self.masking_ratio >= rnd) & sampler,\n",
        "            torch.ones_like(batch) * self.mask_idx,\n",
        "            batch\n",
        "        )\n",
        "        \n",
        "        th = self.replacing_ratio + self.masking_ratio\n",
        "        batch = torch.where(\n",
        "            ((th >= rnd) & (rnd > self.masking_ratio) & sampler), \n",
        "            torch.randint_like(batch, self.vocab_range[0], self.vocab_range[1]),\n",
        "            batch,\n",
        "        )\n",
        "        return batch.to(device), masked_lm_labels.to(device)"
      ],
      "execution_count": 0,
      "outputs": []
    },
    {
      "cell_type": "code",
      "metadata": {
        "id": "VTV29b1g4lpf",
        "colab_type": "code",
        "cellView": "both",
        "outputId": "e77630f4-5d63-4a17-be4f-f80b0d1d5629",
        "colab": {
          "base_uri": "https://localhost:8080/",
          "height": 153
        }
      },
      "source": [
        "#@title Load training data and preprocessing\n",
        "\n",
        "train_smt = smt_dataset(train=True)\n",
        "\n",
        "print('----- DETAILS OF TRAINING DATA -----')\n",
        "print('* Data Summary')\n",
        "for i in range(3):\n",
        "    print(train_smt[i]['label'] + '\\t' + train_smt[i]['text'][:100] + '...')\n",
        "print('...')\n",
        "print(f'* Train data size: {len(train_smt)}')\n",
        "\n",
        "unique_labels = set([data['label'] for data in train_smt])\n",
        "print(f'* class: {unique_labels}')\n",
        "\n",
        "train_data = ['[' + data['label'].upper() + '] ' + data['text'] for data in train_smt]\n"
      ],
      "execution_count": 6,
      "outputs": [
        {
          "output_type": "stream",
          "text": [
            "----- DETAILS OF TRAINING DATA -----\n",
            "* Data Summary\n",
            "positive\tThe Rock is destined to be the 21st Century 's new `` Conan '' and that he 's going to make a splash...\n",
            "positive\tThe gorgeously elaborate continuation of `` The Lord of the Rings '' trilogy is so huge that a colum...\n",
            "positive\tSinger\\/composer Bryan Adams contributes a slew of songs -- a few potential hits , a few more simply...\n",
            "...\n",
            "* Train data size: 8544\n",
            "* class: {'negative', 'positive', 'neutral'}\n"
          ],
          "name": "stdout"
        }
      ]
    },
    {
      "cell_type": "code",
      "metadata": {
        "id": "SKdU3O3l5faT",
        "colab_type": "code",
        "cellView": "form",
        "colab": {}
      },
      "source": [
        "#@title Setup tokenizer and iterator\n",
        "\n",
        "# Set tokenizer    \n",
        "tokenizer = BertTokenizer.from_pretrained('bert-base-uncased')\n",
        "added_special_tokens = [ '[' + label.upper() + ']' for label in iter(unique_labels)]\n",
        "tokenizer.add_tokens(added_special_tokens)\n",
        "\n",
        "batch_size =  32#@param {type:\"integer\"}\n",
        "assert batch_size > 0, 'Please set `batch_size` value more than zero'\n",
        "device = torch.device('cuda' if torch.cuda.is_available() else 'cpu')\n",
        "train_iter = BatchIterator(tokenizer, train_data, batch_size, device)\n",
        "#train_iter = BatchIterator(tokenizer, small_train, batch_size, device)\n"
      ],
      "execution_count": 0,
      "outputs": []
    },
    {
      "cell_type": "code",
      "metadata": {
        "id": "JahA0MmVibbg",
        "colab_type": "code",
        "cellView": "both",
        "outputId": "8bf68a8e-9073-401a-c3dc-4c5aeefa0b80",
        "colab": {
          "base_uri": "https://localhost:8080/",
          "height": 34
        }
      },
      "source": [
        "#@title Build a model\n",
        "config = BertConfig.from_pretrained('bert-base-uncased', vocab_size=len(tokenizer))\n",
        "model = BertForMaskedLM(config)\n",
        "model.to(device)\n",
        "\n",
        "# freeze bert\n",
        "# for param in model.bert.parameters():\n",
        "#    param.requires_grad = False\n",
        "\n",
        "print('Built a model!')"
      ],
      "execution_count": 8,
      "outputs": [
        {
          "output_type": "stream",
          "text": [
            "Built a model!\n"
          ],
          "name": "stdout"
        }
      ]
    },
    {
      "cell_type": "code",
      "metadata": {
        "id": "_HoYYzjNJVfK",
        "colab_type": "code",
        "cellView": "both",
        "outputId": "a3066600-f88a-4e84-c80c-ce5dc421e5f9",
        "colab": {
          "base_uri": "https://localhost:8080/",
          "height": 187
        }
      },
      "source": [
        "#@title Fine-tuning\n",
        "n_epochs = 10 #@param {type:\"integer\"}\n",
        "assert n_epochs > 0, 'Please set `n_epochs` value more than zero'\n",
        "\n",
        "learning_rate = 0.25 #@param\n",
        "num_total_steps = n_epochs * len(train_iter)\n",
        "num_warmup_steps = len(train_iter)\n",
        "\n",
        "# optimizer = AdamW(model.parameters(), lr=learning_rate, correct_bias=False)\n",
        "optimizer = torch.optim.SGD(model.parameters(), lr=learning_rate)\n",
        "#scheduler = WarmupLinearSchedule(optimizer, warmup_steps=num_warmup_steps, t_total=num_total_steps)\n",
        "\n",
        "vocab_range = (max(tokenizer.all_special_ids), min(tokenizer.convert_tokens_to_ids(added_special_tokens)))\n",
        "\n",
        "sampling_rate = 0.2 #@param {type:\"slider\", min:0.1, max:1.0, step:0.05}\n",
        "perturbator = Perturbator(tokenizer, vocab_range, sampling_rate)\n",
        "\n",
        "loss_fn = CrossEntropyLoss(ignore_index=-100)\n",
        "\n",
        "for epoch in range(1, n_epochs+1):  \n",
        "    with tqdm(train_iter, dynamic_ncols=True) as pbar:\n",
        "        train_loss = 0.0\n",
        "        for batch in pbar: \n",
        "            bsz, slen = batch.size()\n",
        "            srcs, masked_lm_labels = perturbator(batch)\n",
        "\n",
        "            outputs = model(srcs)[0].view(bsz*slen, -1)\n",
        "            loss = loss_fn(outputs, masked_lm_labels.view(-1))\n",
        "            pbar.set_description(f'epoch {str(epoch).zfill(3)}')\n",
        "            progress_state = OrderedDict(\n",
        "                loss=loss.item(),\n",
        "                bsz=bsz,\n",
        "            )\n",
        "            pbar.set_postfix(progress_state)\n",
        "            loss.backward()\n",
        "            torch.nn.utils.clip_grad_norm_(model.parameters(), 0.1)\n",
        "\n",
        "            optimizer.step()\n",
        "            # scheduler.step()\n",
        "            "
      ],
      "execution_count": 10,
      "outputs": [
        {
          "output_type": "stream",
          "text": [
            "epoch 001: 100%|██████████| 267/267 [01:46<00:00,  2.64it/s, loss=7.96, bsz=32]\n",
            "epoch 002: 100%|██████████| 267/267 [01:46<00:00,  2.38it/s, loss=7.32, bsz=32]\n",
            "epoch 003: 100%|██████████| 267/267 [01:47<00:00,  2.44it/s, loss=7.38, bsz=32]\n",
            "epoch 004: 100%|██████████| 267/267 [01:47<00:00,  2.68it/s, loss=7.04, bsz=32]\n",
            "epoch 005: 100%|██████████| 267/267 [01:47<00:00,  2.60it/s, loss=6.6, bsz=32]\n",
            "epoch 006: 100%|██████████| 267/267 [01:46<00:00,  2.57it/s, loss=7.32, bsz=32]\n",
            "epoch 007: 100%|██████████| 267/267 [01:47<00:00,  2.56it/s, loss=7.19, bsz=32]\n",
            "epoch 008: 100%|██████████| 267/267 [01:47<00:00,  2.18it/s, loss=7.45, bsz=32]\n",
            "epoch 009: 100%|██████████| 267/267 [01:47<00:00,  2.54it/s, loss=6.8, bsz=32]\n",
            "epoch 010: 100%|██████████| 267/267 [01:46<00:00,  2.32it/s, loss=6.47, bsz=32]\n"
          ],
          "name": "stderr"
        }
      ]
    },
    {
      "cell_type": "code",
      "metadata": {
        "id": "Oj3OF1hg_Ouw",
        "colab_type": "code",
        "cellView": "form",
        "outputId": "a00fe629-0c44-4e3b-d41f-d66ab5bd435f",
        "colab": {
          "base_uri": "https://localhost:8080/",
          "height": 34
        }
      },
      "source": [
        "#@title Select condition\n",
        "example = \"The actors are fantastic .\"\n",
        "\n",
        "sentiment_label = '[NEGATIVE]' #@param [\"[NEUTRAL]\", \"[NEGATIVE]\", \"[POSITIVE]\"]\n",
        "conditional_example = sentiment_label + example\n",
        "tokenized_example = tokenizer.tokenize(conditional_example)\n",
        "print(tokenized_example)\n"
      ],
      "execution_count": 11,
      "outputs": [
        {
          "output_type": "stream",
          "text": [
            "['[NEGATIVE]', 'the', 'actors', 'are', 'fantastic', '.']\n"
          ],
          "name": "stdout"
        }
      ]
    },
    {
      "cell_type": "code",
      "metadata": {
        "id": "GxcUMyPf_yo3",
        "colab_type": "code",
        "outputId": "93b7bbea-e8c2-4640-9ec4-299ae1babad3",
        "cellView": "form",
        "colab": {
          "base_uri": "https://localhost:8080/",
          "height": 51
        }
      },
      "source": [
        "#@title Output top10 candidates\n",
        "masked_position = 4 #@param {type:\"integer\"}\n",
        "tokenized_example[masked_position] = '[MASK]'\n",
        "print(f'Input: {tokenized_example}')\n",
        "\n",
        "input_tensor = torch.tensor([tokenizer.convert_tokens_to_ids(tokenized_example)]).to(device)\n",
        "outputs = model(input_tensor)[0]\n",
        "\n",
        "topk_score, topk_index = torch.topk(outputs[0, masked_position], 10)\n",
        "topk_tokens = tokenizer.convert_ids_to_tokens(topk_index.tolist())\n",
        "print(topk_tokens)"
      ],
      "execution_count": 12,
      "outputs": [
        {
          "output_type": "stream",
          "text": [
            "Input: ['[NEGATIVE]', 'the', 'actors', 'are', '[MASK]', '.']\n",
            "[',', '-', 'the', \"'\", 'of', 'a', 's', 'and', 'is', 'to']\n"
          ],
          "name": "stdout"
        }
      ]
    },
    {
      "cell_type": "code",
      "metadata": {
        "id": "TNWIfSGPFFG8",
        "colab_type": "code",
        "outputId": "d1875231-7da2-4b4d-9102-41288fd596c5",
        "cellView": "form",
        "colab": {
          "base_uri": "https://localhost:8080/",
          "height": 276
        }
      },
      "source": [
        "#@title Visualize output probabilities\n",
        "plt.bar(topk_tokens, torch.softmax(topk_score, 0).tolist())\n",
        "plt.xticks(rotation=70)\n",
        "plt.ylabel('Probability')\n",
        "plt.show()"
      ],
      "execution_count": 13,
      "outputs": [
        {
          "output_type": "display_data",
          "data": {
            "image/png": "[encoded data removed]",
            "text/plain": [
              "<Figure size 432x288 with 1 Axes>"
            ]
          },
          "metadata": {
            "tags": []
          }
        }
      ]
    }
  ]
}